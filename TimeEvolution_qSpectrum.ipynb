{
 "cells": [
  {
   "cell_type": "code",
   "execution_count": 73,
   "metadata": {},
   "outputs": [],
   "source": [
    "# All the packages needed \n",
    "import glob2\n",
    "import os\n",
    "import matplotlib.pyplot as plt \n",
    "from matplotlib import rc\n",
    "from tqdm import tqdm\n",
    "from scipy.fftpack import fft\n",
    "import numpy as np"
   ]
  },
  {
   "cell_type": "code",
   "execution_count": 74,
   "metadata": {},
   "outputs": [
    {
     "name": "stderr",
     "output_type": "stream",
     "text": [
      "100%|██████████| 141/141 [00:00<00:00, 83838.51it/s]\n"
     ]
    }
   ],
   "source": [
    "# Acquiring all the file list to extract data from\n",
    "\n",
    "fileDir = \"/home/srj_bruh/Acads/nematics_project/data/job2502694/\"\n",
    "\n",
    "listFiles = glob2.glob(fileDir+\"dir\"+\"*.dat\")\n",
    "numOnlyListFiles = []\n",
    "\n",
    "for i in tqdm(listFiles):\n",
    "    numOnlyListFiles.append(int(i[len(fileDir+\"dir\"):-4]))\n",
    "numOnlyListFiles.sort()\n",
    "\n",
    "listFiles = []\n",
    "\n",
    "for i in numOnlyListFiles:\n",
    "    listFiles.append(fileDir+\"dir\"+str(i)+\".dat\")"
   ]
  },
  {
   "cell_type": "code",
   "execution_count": 75,
   "metadata": {},
   "outputs": [
    {
     "name": "stderr",
     "output_type": "stream",
     "text": [
      "/home/srj_bruh/anaconda3/envs/thampipaper/lib/python3.7/site-packages/ipykernel_launcher.py:11: DeprecationWarning: object of type <class 'float'> cannot be safely interpreted as an integer.\n",
      "  # This is added back by InteractiveShellApp.init_path()\n"
     ]
    }
   ],
   "source": [
    "# Initialization of the fourier transform field and the function to determine\n",
    "\n",
    "nx = 400\n",
    "ny = 400\n",
    "\n",
    "# Number of samplepoints\n",
    "N = nx\n",
    "# sample spacing\n",
    "T = 1.0\n",
    "\n",
    "xf = np.linspace(0.0, 1.0/(2.0*T), N/2)\n",
    "xf = 2*np.pi*xf\n",
    "xf = xf[1:]\n",
    "\n",
    "time_axis = np.linspace(0,len(numOnlyListFiles),len(numOnlyListFiles))\n",
    "\n",
    "def get_qSpectrum(dataFile):\n",
    "    yf = fft(dataFile)\n",
    "    return 2.0/N * np.abs(yf[1:N//2])"
   ]
  },
  {
   "cell_type": "code",
   "execution_count": 93,
   "metadata": {},
   "outputs": [
    {
     "name": "stderr",
     "output_type": "stream",
     "text": [
      "100%|██████████| 141/141 [00:15<00:00,  8.87it/s]\n"
     ]
    }
   ],
   "source": [
    "# Fourier transforming the entire domain and averaging it out \n",
    "\n",
    "time_q_data = []\n",
    "\n",
    "for i in tqdm(listFiles):\n",
    "    dataFile = [] \n",
    "    with open(i,\"r\") as f:\n",
    "        data = f.readlines()\n",
    "        for line in data:\n",
    "            words = line.split()\n",
    "            dataFile.append(float(words[3])*10**-5)\n",
    "            \n",
    "    q_total = np.zeros((N//2-1,))\n",
    "    \n",
    "    for j in range(ny):\n",
    "        data_segment = dataFile[j*nx:(j+1)*nx] \n",
    "        q_spectrum = get_qSpectrum(data_segment)\n",
    "        q_total = q_total+ q_spectrum  \n",
    "    \n",
    "    q_total = q_total\n",
    "#     q_total = q_total / np.linalg.norm(q_total)\n",
    "    time_q_data.append(q_total)\n",
    "\n",
    "time_q_data = np.array(time_q_data)"
   ]
  },
  {
   "cell_type": "code",
   "execution_count": 94,
   "metadata": {},
   "outputs": [
    {
     "data": {
      "text/plain": [
       "<matplotlib.colorbar.Colorbar at 0x7fdb2e94c150>"
      ]
     },
     "execution_count": 94,
     "metadata": {},
     "output_type": "execute_result"
    },
    {
     "data": {
      "image/png": "[encoded data removed]",
      "text/plain": [
       "<Figure size 432x288 with 2 Axes>"
      ]
     },
     "metadata": {
      "needs_background": "light"
     },
     "output_type": "display_data"
    }
   ],
   "source": [
    "# Plotting of the q_spectrum\n",
    "\n",
    "plt.contourf(xf,time_axis,time_q_data)\n",
    "plt.rcParams.update({'font.size': 22})\n",
    "rc('xtick', labelsize=22)\n",
    "rc('ytick', labelsize=22)\n",
    "plt.xlim(0.01,0.2)\n",
    "plt.colorbar()"
   ]
  },
  {
   "cell_type": "code",
   "execution_count": 92,
   "metadata": {},
   "outputs": [
    {
     "data": {
      "text/plain": [
       "array([6.76613170e-09, 7.19303813e-09, 8.01915714e-09, 9.50019064e-09,\n",
       "       1.23140981e-08, 1.88179846e-08, 4.61818769e-08, 7.89565053e-08,\n",
       "       2.02945714e-08, 1.14042331e-08, 7.84404427e-09, 5.94076891e-09,\n",
       "       4.76400114e-09, 3.96861429e-09, 3.39708634e-09, 2.96770115e-09,\n",
       "       2.63464088e-09, 2.36888113e-09, 2.15261021e-09, 1.97281330e-09,\n",
       "       1.82138710e-09, 1.69257763e-09, 1.58081739e-09, 1.48360378e-09,\n",
       "       1.39811484e-09, 1.32250349e-09, 1.25472263e-09, 1.19434922e-09,\n",
       "       1.14011154e-09, 1.09047621e-09, 1.04447416e-09, 1.00301329e-09,\n",
       "       9.65715404e-10, 9.30255182e-10, 8.98260216e-10, 8.68151476e-10,\n",
       "       8.40142732e-10, 8.14005510e-10, 7.89539893e-10, 7.66689247e-10,\n",
       "       7.45160002e-10, 7.25252002e-10, 7.06039823e-10, 6.88465097e-10,\n",
       "       6.71542652e-10, 6.55727574e-10, 6.40124782e-10, 6.25935760e-10,\n",
       "       6.11775525e-10, 5.98579491e-10, 5.86219932e-10, 5.74367271e-10,\n",
       "       5.63057763e-10, 5.51861724e-10, 5.41507968e-10, 5.31167574e-10,\n",
       "       5.21745300e-10, 5.12710268e-10, 5.03794500e-10, 4.95496661e-10,\n",
       "       4.87082175e-10, 4.79256031e-10, 4.71861753e-10, 4.64388599e-10,\n",
       "       4.57327042e-10, 4.50380915e-10, 4.43870870e-10, 4.37666446e-10,\n",
       "       4.31991303e-10, 4.25710588e-10, 4.19700219e-10, 4.14487351e-10,\n",
       "       4.08891686e-10, 4.03754381e-10, 3.98744890e-10, 3.93269315e-10,\n",
       "       3.88919330e-10, 3.84620328e-10, 3.80019762e-10, 3.75498639e-10,\n",
       "       3.71533774e-10, 3.66877281e-10, 3.62764760e-10, 3.59061626e-10,\n",
       "       3.55313789e-10, 3.51596422e-10, 3.48195972e-10, 3.44743456e-10,\n",
       "       3.41433431e-10, 3.38016744e-10, 3.35149926e-10, 3.31674304e-10,\n",
       "       3.28790920e-10, 3.25596008e-10, 3.22956505e-10, 3.20098663e-10,\n",
       "       3.17489901e-10, 3.14742875e-10, 3.11911378e-10, 3.09325597e-10,\n",
       "       3.06766735e-10, 3.04375087e-10, 3.02169122e-10, 2.99577562e-10,\n",
       "       2.97237806e-10, 2.95380794e-10, 2.92969053e-10, 2.91475845e-10,\n",
       "       2.89113549e-10, 2.86627915e-10, 2.85239270e-10, 2.83239812e-10,\n",
       "       2.81041124e-10, 2.79323492e-10, 2.77737362e-10, 2.75814007e-10,\n",
       "       2.74330291e-10, 2.72564318e-10, 2.70692403e-10, 2.68968451e-10,\n",
       "       2.67682807e-10, 2.66476763e-10, 2.64610456e-10, 2.63196495e-10,\n",
       "       2.61425930e-10, 2.59979067e-10, 2.59002268e-10, 2.57473943e-10,\n",
       "       2.56714103e-10, 2.54997357e-10, 2.54147429e-10, 2.52378240e-10,\n",
       "       2.51471067e-10, 2.49909179e-10, 2.48878017e-10, 2.47721970e-10,\n",
       "       2.46840480e-10, 2.46023373e-10, 2.44842270e-10, 2.43918996e-10,\n",
       "       2.42684181e-10, 2.42023891e-10, 2.40864860e-10, 2.39911326e-10,\n",
       "       2.39282972e-10, 2.38530335e-10, 2.37452833e-10, 2.36582972e-10,\n",
       "       2.35635936e-10, 2.35102069e-10, 2.34174620e-10, 2.33707829e-10,\n",
       "       2.32662101e-10, 2.31875324e-10, 2.31778717e-10, 2.30624472e-10,\n",
       "       2.30070861e-10, 2.29359767e-10, 2.28489073e-10, 2.28330610e-10,\n",
       "       2.27530778e-10, 2.26946992e-10, 2.26513214e-10, 2.25796407e-10,\n",
       "       2.25107195e-10, 2.25297646e-10, 2.24002353e-10, 2.24389510e-10,\n",
       "       2.23363938e-10, 2.23042177e-10, 2.22614348e-10, 2.22087025e-10,\n",
       "       2.21604298e-10, 2.21484484e-10, 2.21028597e-10, 2.20552490e-10,\n",
       "       2.20413321e-10, 2.19697596e-10, 2.19859733e-10, 2.19809791e-10,\n",
       "       2.19167024e-10, 2.18664599e-10, 2.19011761e-10, 2.18402940e-10,\n",
       "       2.18435161e-10, 2.17744226e-10, 2.17863382e-10, 2.18154071e-10,\n",
       "       2.17462301e-10, 2.17517921e-10, 2.17019243e-10, 2.17137273e-10,\n",
       "       2.17106655e-10, 2.17049496e-10, 2.16996819e-10, 2.16985528e-10,\n",
       "       2.16476102e-10, 2.16891711e-10, 2.16434733e-10])"
      ]
     },
     "execution_count": 92,
     "metadata": {},
     "output_type": "execute_result"
    }
   ],
   "source": [
    "time_q_data[0]"
   ]
  },
  {
   "cell_type": "code",
   "execution_count": null,
   "metadata": {},
   "outputs": [],
   "source": []
  }
 ],
 "metadata": {
  "kernelspec": {
   "display_name": "Python 3",
   "language": "python",
   "name": "python3"
  },
  "language_info": {
   "codemirror_mode": {
    "name": "ipython",
    "version": 3
   },
   "file_extension": ".py",
   "mimetype": "text/x-python",
   "name": "python",
   "nbconvert_exporter": "python",
   "pygments_lexer": "ipython3",
   "version": "3.7.4"
  }
 },
 "nbformat": 4,
 "nbformat_minor": 2
}
